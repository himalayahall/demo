{
 "cells": [
  {
   "cell_type": "code",
   "execution_count": 1,
   "metadata": {},
   "outputs": [],
   "source": [
    "import requests\n",
    "import time"
   ]
  },
  {
   "cell_type": "code",
   "execution_count": 2,
   "metadata": {},
   "outputs": [],
   "source": [
    "import asyncio\n",
    "import nest_asyncio"
   ]
  },
  {
   "cell_type": "code",
   "execution_count": 7,
   "metadata": {},
   "outputs": [],
   "source": [
    "# Define base URL for API\n",
    "BASE_URL = \"http://localhost:8080/mktdata/session\""
   ]
  },
  {
   "cell_type": "code",
   "execution_count": 8,
   "metadata": {},
   "outputs": [],
   "source": [
    "# Decode response from the API which is either JSON or a string\n",
    "def decodeResponse(response : any) -> str:\n",
    "    try:\n",
    "        # Try to parse JSON, if it fails, handle the string response\n",
    "        resp = response.json()\n",
    "    except ValueError:  # If JSON decoding fails\n",
    "        # Handle the case where response is a simple string\n",
    "        resp = response.text\n",
    "    return resp\n",
    "\n",
    "def getSessionId(response):\n",
    "    return decodeResponse(response)"
   ]
  },
  {
   "cell_type": "code",
   "execution_count": 9,
   "metadata": {},
   "outputs": [],
   "source": [
    "# Create new session\n",
    "def createSession() -> str:\n",
    "    response = requests.post(BASE_URL)\n",
    "    if response.status_code == 200:\n",
    "        session_id = getSessionId(response)\n",
    "        print(f\"Session created: {session_id}\")\n",
    "    else:\n",
    "        print(f\"Failed to create session: {response.text}\")\n",
    "        session_id = None\n",
    "    return session_id"
   ]
  },
  {
   "cell_type": "code",
   "execution_count": 10,
   "metadata": {},
   "outputs": [],
   "source": [
    "# Rewind session\n",
    "def rewindSession(session_id : str) -> None:\n",
    "    if session_id:\n",
    "        rewind_url = f\"{BASE_URL}/rewind/{session_id}\"\n",
    "        response = requests.put(rewind_url)\n",
    "        print(f\"Rewind session response: {response.text}\")"
   ]
  },
  {
   "cell_type": "code",
   "execution_count": 11,
   "metadata": {},
   "outputs": [],
   "source": [
    "# Set replay speed\n",
    "def setSpeed(session_id : str, speed : float) -> None:\n",
    "    if session_id:\n",
    "        speed_url = f\"{BASE_URL}/speed/{session_id}/{speed}\"\n",
    "        response = requests.put(speed_url)\n",
    "        print(f\"Set replay speed response: {response.text}\")\n"
   ]
  },
  {
   "cell_type": "code",
   "execution_count": 12,
   "metadata": {},
   "outputs": [],
   "source": [
    "# Start session\n",
    "def startSession(session_id : str) -> None:\n",
    "    if session_id:\n",
    "        start_url = f\"{BASE_URL}/start/{session_id}\"\n",
    "        response = requests.put(start_url)\n",
    "        print(f\"Start session response: {response.text}\")"
   ]
  },
  {
   "cell_type": "code",
   "execution_count": null,
   "metadata": {},
   "outputs": [],
   "source": [
    "sessions = []\n",
    "\n",
    "# Create sessions\n",
    "for sesssion_count in range(0, 100):\n",
    "    sessionId = createSession()\n",
    "    sessions.append(sessionId)"
   ]
  },
  {
   "cell_type": "code",
   "execution_count": null,
   "metadata": {},
   "outputs": [],
   "source": [
    "# Set speed\n",
    "for session in sessions:\n",
    "    setSpeed(session, 5000.0)"
   ]
  },
  {
   "cell_type": "code",
   "execution_count": 26,
   "metadata": {},
   "outputs": [],
   "source": [
    "# Subscribe to session\n",
    "from IPython.display import clear_output, display\n",
    "async def subscribeSession(session_id : str) -> None:\n",
    "    if session_id:\n",
    "        start_url = f\"{BASE_URL}/subscribe/{session_id}\"\n",
    "        response = requests.get(start_url, stream=True)\n",
    "        print(f\"Subscribe session {session_id} response: {response.status_code}\")\n",
    "\n",
    "        # Process and display streaming data\n",
    "        # try:\n",
    "        for chunk in response.iter_lines(decode_unicode=True):\n",
    "            try:\n",
    "                if chunk:\n",
    "                    pass\n",
    "                    # clear_output(wait=True)  # Clear previous output in notebook\n",
    "                    # display(f\"Streaming session: {session_id}, data: {chunk}\")  # Display the current chunk\n",
    "            except KeyboardInterrupt:\n",
    "                print(f\"Subscribe session {session_id} stopped manually\")\n",
    "\n",
    "        clear_output(wait=True)  # Clear previous output in notebook\n",
    "        display(f\"Subscribe session {session_id} finished\") \n"
   ]
  },
  {
   "cell_type": "code",
   "execution_count": 27,
   "metadata": {},
   "outputs": [],
   "source": [
    "# Subscribe to 1 or more sessions asynchronously\n",
    "async def subscribeSessions(sessions):\n",
    "    for session in sessions:\n",
    "        await asyncio.gather(subscribeSession(session))"
   ]
  },
  {
   "cell_type": "code",
   "execution_count": null,
   "metadata": {},
   "outputs": [],
   "source": [
    "# Start sessions\n",
    "for session in sessions:\n",
    "    startSession(session)"
   ]
  },
  {
   "cell_type": "code",
   "execution_count": null,
   "metadata": {},
   "outputs": [],
   "source": [
    "# Subscribe to sessions\n",
    "await subscribeSessions(sessions)"
   ]
  }
 ],
 "metadata": {
  "kernelspec": {
   "display_name": "Python 3",
   "language": "python",
   "name": "python3"
  },
  "language_info": {
   "codemirror_mode": {
    "name": "ipython",
    "version": 3
   },
   "file_extension": ".py",
   "mimetype": "text/x-python",
   "name": "python",
   "nbconvert_exporter": "python",
   "pygments_lexer": "ipython3",
   "version": "3.10.14"
  }
 },
 "nbformat": 4,
 "nbformat_minor": 2
}
