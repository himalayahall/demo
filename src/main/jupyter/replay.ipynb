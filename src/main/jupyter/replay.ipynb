{
 "cells": [
  {
   "cell_type": "code",
   "execution_count": 1,
   "metadata": {},
   "outputs": [],
   "source": [
    "import requests\n",
    "import time"
   ]
  },
  {
   "cell_type": "code",
   "execution_count": 2,
   "metadata": {},
   "outputs": [],
   "source": [
    "# Define base URL for API\n",
    "BASE_URL = \"http://localhost:8080/mktdata/session\""
   ]
  },
  {
   "cell_type": "code",
   "execution_count": 3,
   "metadata": {},
   "outputs": [],
   "source": [
    "def decodeResponse(response : any) -> str:\n",
    "    try:\n",
    "        # Try to parse JSON, if it fails, handle the string response\n",
    "        resp = response.json()\n",
    "    except ValueError:  # If JSON decoding fails\n",
    "        # Handle the case where response is a simple string\n",
    "        resp = response.text\n",
    "    return resp\n",
    "\n",
    "def getSessionId(response):\n",
    "    return decodeResponse(response)"
   ]
  },
  {
   "cell_type": "code",
   "execution_count": 4,
   "metadata": {},
   "outputs": [],
   "source": [
    "# Step 1: Create a new session\n",
    "def createSession() -> str:\n",
    "    response = requests.post(BASE_URL)\n",
    "    if response.status_code == 200:\n",
    "        session_id = getSessionId(response)\n",
    "        print(f\"Session created: {session_id}\")\n",
    "    else:\n",
    "        print(f\"Failed to create session: {response.text}\")\n",
    "        session_id = None\n",
    "    return session_id"
   ]
  },
  {
   "cell_type": "code",
   "execution_count": 5,
   "metadata": {},
   "outputs": [],
   "source": [
    "# Step 2: subscribe to session\n",
    "def subscribeSession(session_id : str) -> None:\n",
    "    if session_id:\n",
    "        start_url = f\"{BASE_URL}/subscribe/{session_id}\"\n",
    "        response = requests.get(start_url, stream=True)\n",
    "        print(f\"Subscribe session response: {response.status_code}\")\n",
    "\n",
    "        # Process and display streaming data\n",
    "        try:\n",
    "            for chunk in response.iter_lines(decode_unicode=True):\n",
    "                if chunk:\n",
    "                    clear_output(wait=True)  # Clear previous output in notebook\n",
    "                    display(f\"Streaming data: {chunk}\")  # Display the current chunk\n",
    "                    time.sleep(0.1)  # Simulate delay between chunks\n",
    "        except KeyboardInterrupt:\n",
    "            print(\"Streaming stopped manually.\")"
   ]
  },
  {
   "cell_type": "code",
   "execution_count": 42,
   "metadata": {},
   "outputs": [],
   "source": [
    "# Step 3: Start the replay session\n",
    "def startSession(session_id : str) -> None:\n",
    "    if session_id:\n",
    "        start_url = f\"{BASE_URL}/start/{session_id}\"\n",
    "        response = requests.put(start_url)\n",
    "        print(f\"Start session response: {response.text}\")"
   ]
  },
  {
   "cell_type": "code",
   "execution_count": 6,
   "metadata": {},
   "outputs": [],
   "source": [
    "# Step 4: Rewind the session\n",
    "def rewindSession(session_id : str) -> None:\n",
    "    if session_id:\n",
    "        rewind_url = f\"{BASE_URL}/rewind/{session_id}\"\n",
    "        response = requests.put(rewind_url)\n",
    "        print(f\"Rewind session response: {response.text}\")"
   ]
  },
  {
   "cell_type": "code",
   "execution_count": 7,
   "metadata": {},
   "outputs": [],
   "source": [
    "# Step 4: Set replay speed to 2.0\n",
    "def setSpeed(session_id : str, speed : float) -> None:\n",
    "    if session_id:\n",
    "        speed_url = f\"{BASE_URL}/speed/{session_id}/{speed}\"\n",
    "        response = requests.put(speed_url)\n",
    "        print(f\"Set replay speed response: {response.text}\")\n"
   ]
  },
  {
   "cell_type": "code",
   "execution_count": 11,
   "metadata": {},
   "outputs": [],
   "source": [
    "def startSession(session_id : str) -> None:\n",
    "    if session_id:\n",
    "        start_url = f\"{BASE_URL}/start/{session_id}\"\n",
    "        response = requests.put(start_url)\n",
    "        print(f\"Start session response: {response.text}\")"
   ]
  },
  {
   "cell_type": "code",
   "execution_count": 25,
   "metadata": {},
   "outputs": [
    {
     "name": "stdout",
     "output_type": "stream",
     "text": [
      "Session created: 31a9e81b-ed43-4634-9db0-8c3f0fc918b3\n"
     ]
    }
   ],
   "source": [
    "sessions = []\n",
    "\n",
    "# Create sessions\n",
    "for sesssion_count in range(1, 2):\n",
    "    sessionId = createSession()\n",
    "    sessions.append(sessionId)\n"
   ]
  },
  {
   "cell_type": "code",
   "execution_count": 27,
   "metadata": {},
   "outputs": [
    {
     "name": "stdout",
     "output_type": "stream",
     "text": [
      "Set replay speed response: Replay speed set to 1.0 for session 31a9e81b-ed43-4634-9db0-8c3f0fc918b3\n"
     ]
    }
   ],
   "source": [
    "# Set speed\n",
    "for session in sessions:\n",
    "    setSpeed(session, 1.0)"
   ]
  },
  {
   "cell_type": "code",
   "execution_count": 28,
   "metadata": {},
   "outputs": [
    {
     "name": "stdout",
     "output_type": "stream",
     "text": [
      "Start session response: Replay started for session 31a9e81b-ed43-4634-9db0-8c3f0fc918b3\n"
     ]
    }
   ],
   "source": [
    "# Start sessions\n",
    "for session in sessions:\n",
    "    startSession(session)"
   ]
  },
  {
   "cell_type": "code",
   "execution_count": null,
   "metadata": {},
   "outputs": [],
   "source": [
    "# # Subscribe to sessions\n",
    "# for session in sessions:\n",
    "#     subscribeSession(session)"
   ]
  }
 ],
 "metadata": {
  "kernelspec": {
   "display_name": "Python 3",
   "language": "python",
   "name": "python3"
  },
  "language_info": {
   "codemirror_mode": {
    "name": "ipython",
    "version": 3
   },
   "file_extension": ".py",
   "mimetype": "text/x-python",
   "name": "python",
   "nbconvert_exporter": "python",
   "pygments_lexer": "ipython3",
   "version": "3.10.14"
  }
 },
 "nbformat": 4,
 "nbformat_minor": 2
}
